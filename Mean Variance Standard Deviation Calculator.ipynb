{
 "cells": [
  {
   "cell_type": "code",
   "execution_count": 14,
   "id": "f63e428b-aa1b-4b65-b279-58c2493e4f4a",
   "metadata": {},
   "outputs": [],
   "source": [
    "from pprint import pprint\n",
    "  "
   ]
  },
  {
   "cell_type": "code",
   "execution_count": 15,
   "id": "e34219ca-91da-45d3-a634-f5d608873f6c",
   "metadata": {},
   "outputs": [],
   "source": [
    "\n",
    "import numpy as np\n",
    "def calculate(arr):\n",
    "    if len(arr) != 9:\n",
    "        raise ValueError(\"List must contain nine numbers.\")\n",
    "\n",
    "    m = np.array(arr).reshape([3, 3])\n",
    "    r = {\n",
    "        \"mean\": [m.mean(0).tolist(), m.mean(1).tolist(), m.mean()],\n",
    "        \"variance\": [m.var(0).tolist(), m.var(1).tolist(), m.var()],\n",
    "        \"standard deviation\": [m.std(0).tolist(), m.std(1).tolist(), m.std()],\n",
    "        \"max\": [m.max(0).tolist(), m.max(1).tolist(), m.max()],\n",
    "        \"min\": [m.min(0).tolist(), m.min(1).tolist(), m.min()],\n",
    "        \"sum\": [m.sum(0).tolist(), m.sum(1).tolist(), m.sum()],\n",
    "    }\n",
    "    return r\n",
    "\n",
    "\n",
    "        \n",
    "\n",
    "        \n",
    "       "
   ]
  },
  {
   "cell_type": "code",
   "execution_count": 16,
   "id": "ee88d7d9-86ab-484f-b92e-68405d732779",
   "metadata": {},
   "outputs": [
    {
     "name": "stdout",
     "output_type": "stream",
     "text": [
      "{'max': [[6, 7, 8], [2, 5, 8], 8],\n",
      " 'mean': [[3.0, 4.0, 5.0], [1.0, 4.0, 7.0], 4.0],\n",
      " 'min': [[0, 1, 2], [0, 3, 6], 0],\n",
      " 'standard deviation': [[2.449489742783178,\n",
      "                         2.449489742783178,\n",
      "                         2.449489742783178],\n",
      "                        [0.816496580927726,\n",
      "                         0.816496580927726,\n",
      "                         0.816496580927726],\n",
      "                        2.581988897471611],\n",
      " 'sum': [[9, 12, 15], [3, 12, 21], 36],\n",
      " 'variance': [[6.0, 6.0, 6.0],\n",
      "              [0.6666666666666666, 0.6666666666666666, 0.6666666666666666],\n",
      "              6.666666666666667]}\n"
     ]
    },
    {
     "data": {
      "text/plain": [
       "{'max': [[6, 7, 8], [2, 5, 8], 8],\n",
       " 'mean': [[3.0, 4.0, 5.0], [1.0, 4.0, 7.0], 4.0],\n",
       " 'min': [[0, 1, 2], [0, 3, 6], 0],\n",
       " 'standard deviation': [[2.449489742783178,\n",
       "   2.449489742783178,\n",
       "   2.449489742783178],\n",
       "  [0.816496580927726, 0.816496580927726, 0.816496580927726],\n",
       "  2.581988897471611],\n",
       " 'sum': [[9, 12, 15], [3, 12, 21], 36],\n",
       " 'variance': [[6.0, 6.0, 6.0],\n",
       "  [0.6666666666666666, 0.6666666666666666, 0.6666666666666666],\n",
       "  6.666666666666667]}"
      ]
     },
     "execution_count": 16,
     "metadata": {},
     "output_type": "execute_result"
    }
   ],
   "source": [
    "pprint(calculate([i for i in range(0, 9)]))\n",
    "{'max': [[6, 7, 8], [2, 5, 8], 8],\n",
    " 'mean': [[3.0, 4.0, 5.0], [1.0, 4.0, 7.0], 4.0],\n",
    " 'min': [[0, 1, 2], [0, 3, 6], 0],\n",
    " 'standard deviation': [[2.449489742783178,\n",
    "                         2.449489742783178,\n",
    "                         2.449489742783178],\n",
    "                        [0.816496580927726,\n",
    "                         0.816496580927726,\n",
    "                         0.816496580927726],\n",
    "                        2.581988897471611],\n",
    " 'sum': [[9, 12, 15], [3, 12, 21], 36],\n",
    " 'variance': [[6.0, 6.0, 6.0],\n",
    "              [0.6666666666666666, 0.6666666666666666, 0.6666666666666666],\n",
    "              6.666666666666667]}"
   ]
  },
  {
   "cell_type": "code",
   "execution_count": 17,
   "id": "9b892d48-765e-42f0-9c3f-75ac58f8c5b5",
   "metadata": {},
   "outputs": [],
   "source": [
    "#  Test\n",
    "\n",
    "import unittest\n",
    "class UnitTests(unittest.TestCase):\n",
    "    def test_calculate(self):\n",
    "        actual = calculate([2, 6, 2, 8, 4, 0, 1, 5, 7])\n",
    "        expected = {\n",
    "            \"mean\": [\n",
    "                [3.6666666666666665, 5.0, 3.0],\n",
    "                [3.3333333333333335, 4.0, 4.333333333333333],\n",
    "                3.888888888888889,\n",
    "            ],\n",
    "            \"variance\": [\n",
    "                [9.555555555555557, 0.6666666666666666, 8.666666666666666],\n",
    "                [3.555555555555556, 10.666666666666666, 6.222222222222221],\n",
    "                6.987654320987654,    ],\n",
    "            \"standard deviation\": [\n",
    "                [3.091206165165235, 0.816496580927726, 2.943920288775949],\n",
    "                [1.8856180831641267, 3.265986323710904, 2.494438257849294],\n",
    "                2.6434171674156266,\n",
    "            ],\n",
    "            \"max\": [[8, 6, 7], [6, 8, 7], 8],\n",
    "            \"min\": [[1, 4, 0], [2, 0, 1], 0],\n",
    "            \"sum\": [[11, 15, 9], [10, 12, 13], 35],\n",
    "        }\n",
    "        self.assertAlmostEqual(\n",
    "            actual,\n",
    "            expected,\n",
    "            \"Expected different output when calling 'calculate()' with '[2,6,2,8,4,0,1,5,7]'\",\n",
    "        )\n",
    "    def test_calculate2(self):\n",
    "        actual = calculate([9, 1, 5, 3, 3, 3, 2, 9, 0])\n",
    "        expected = {\n",
    "            \"mean\": [\n",
    "                [4.666666666666667, 4.333333333333333, 2.6666666666666665],\n",
    "                [5.0, 3.0, 3.6666666666666665],\n",
    "                3.888888888888889,\n",
    "            ],\n",
    "            \"variance\": [\n",
    "                [9.555555555555555, 11.555555555555557, 4.222222222222222],\n",
    "                [10.666666666666666, 0.0, 14.888888888888891],\n",
    "                9.209876543209875,\n",
    "            ],\n",
    "            \"standard deviation\": [\n",
    "                [3.0912061651652345, 3.39934634239519, 2.0548046676563256],\n",
    "                [3.265986323710904, 0.0, 3.8586123009300755],\n",
    "                3.0347778408328137,\n",
    "            ],\n",
    "            \"max\": [[9, 9, 5], [9, 3, 9], 9],\n",
    "            \"min\": [[2, 1, 0], [1, 3, 0], 0],\n",
    "            \"sum\": [[14, 13, 8], [15, 9, 11], 35],\n",
    "        }"
   ]
  },
  {
   "cell_type": "code",
   "execution_count": 18,
   "id": "f5700a6f-56bc-4cbe-a022-6407e338a7e9",
   "metadata": {},
   "outputs": [
    {
     "ename": "NameError",
     "evalue": "name 'self' is not defined",
     "output_type": "error",
     "traceback": [
      "\u001b[1;31m---------------------------------------------------------------------------\u001b[0m",
      "\u001b[1;31mNameError\u001b[0m                                 Traceback (most recent call last)",
      "Cell \u001b[1;32mIn[18], line 1\u001b[0m\n\u001b[1;32m----> 1\u001b[0m \u001b[38;5;28;43mself\u001b[39;49m\u001b[38;5;241m.\u001b[39massertAlmostEqual(\n\u001b[0;32m      2\u001b[0m            actual,\n\u001b[0;32m      3\u001b[0m            expected,\n\u001b[0;32m      4\u001b[0m            \u001b[38;5;124m\"\u001b[39m\u001b[38;5;124mExpected different output when calling \u001b[39m\u001b[38;5;124m'\u001b[39m\u001b[38;5;124mcalculate()\u001b[39m\u001b[38;5;124m'\u001b[39m\u001b[38;5;124m with \u001b[39m\u001b[38;5;124m'\u001b[39m\u001b[38;5;124m[9,1,5,3,3,3,2,9,0]\u001b[39m\u001b[38;5;124m'\u001b[39m\u001b[38;5;124m\"\u001b[39m,\n\u001b[0;32m      5\u001b[0m        )\n\u001b[0;32m      7\u001b[0m \u001b[38;5;28;01mdef\u001b[39;00m \u001b[38;5;21mtest_calculate_with_few_digits\u001b[39m(\u001b[38;5;28mself\u001b[39m):\n\u001b[0;32m      8\u001b[0m        \u001b[38;5;28mself\u001b[39m\u001b[38;5;241m.\u001b[39massertRaisesRegex(\n\u001b[0;32m      9\u001b[0m            \u001b[38;5;167;01mValueError\u001b[39;00m,\n\u001b[0;32m     10\u001b[0m            \u001b[38;5;124m\"\u001b[39m\u001b[38;5;124mList must contain nine numbers.\u001b[39m\u001b[38;5;124m\"\u001b[39m,\n\u001b[1;32m   (...)\u001b[0m\n\u001b[0;32m     20\u001b[0m            ],\n\u001b[0;32m     21\u001b[0m        )\n",
      "\u001b[1;31mNameError\u001b[0m: name 'self' is not defined"
     ]
    }
   ],
   "source": [
    " self.assertAlmostEqual(\n",
    "            actual,\n",
    "            expected,\n",
    "            \"Expected different output when calling 'calculate()' with '[9,1,5,3,3,3,2,9,0]'\",\n",
    "        )\n",
    "\n",
    "def test_calculate_with_few_digits(self):\n",
    "        self.assertRaisesRegex(\n",
    "            ValueError,\n",
    "            \"List must contain nine numbers.\",\n",
    "            calculate,\n",
    "            [\n",
    "                2,\n",
    "                6,\n",
    "                2,\n",
    "                8,\n",
    "                4,\n",
    "                0,\n",
    "                1,\n",
    "            ],\n",
    "        )\n",
    "if __name__ == \"__main__\":\n",
    "    unittest.main(argv=[\"first-arg-is-ignored\"], exit=False)"
   ]
  },
  {
   "cell_type": "code",
   "execution_count": null,
   "id": "2aead6d0-1a9b-4deb-a4c5-b8e4c01557a1",
   "metadata": {},
   "outputs": [],
   "source": []
  }
 ],
 "metadata": {
  "kernelspec": {
   "display_name": "Python 3 (ipykernel)",
   "language": "python",
   "name": "python3"
  },
  "language_info": {
   "codemirror_mode": {
    "name": "ipython",
    "version": 3
   },
   "file_extension": ".py",
   "mimetype": "text/x-python",
   "name": "python",
   "nbconvert_exporter": "python",
   "pygments_lexer": "ipython3",
   "version": "3.12.4"
  }
 },
 "nbformat": 4,
 "nbformat_minor": 5
}
